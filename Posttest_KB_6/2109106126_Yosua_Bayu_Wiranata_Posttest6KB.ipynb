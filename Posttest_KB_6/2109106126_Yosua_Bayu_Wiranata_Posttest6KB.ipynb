{
  "nbformat": 4,
  "nbformat_minor": 0,
  "metadata": {
    "colab": {
      "provenance": []
    },
    "kernelspec": {
      "name": "python3",
      "display_name": "Python 3"
    },
    "language_info": {
      "name": "python"
    }
  },
  "cells": [
    {
      "cell_type": "markdown",
      "source": [
        "#Posttest 6"
      ],
      "metadata": {
        "id": "_DGr0qapyw2D"
      }
    },
    {
      "cell_type": "markdown",
      "source": [
        "*Library yang di gunakan*"
      ],
      "metadata": {
        "id": "WKnH2_Pwy34c"
      }
    },
    {
      "cell_type": "code",
      "source": [
        "import pandas as pd\n",
        "import numpy as np\n",
        "from sklearn.model_selection import train_test_split\n",
        "from sklearn.preprocessing import StandardScaler, OneHotEncoder\n",
        "from sklearn.compose import ColumnTransformer\n",
        "from sklearn.metrics import r2_score\n",
        "from tensorflow.keras.models import Sequential\n",
        "from tensorflow.keras.layers import Dense, Dropout\n",
        "from tensorflow.keras.optimizers import Adam\n",
        "from tensorflow.keras.callbacks import ModelCheckpoint, EarlyStopping\n",
        "import matplotlib.pyplot as plt\n"
      ],
      "metadata": {
        "id": "woMPkmZlL9ei"
      },
      "execution_count": 79,
      "outputs": []
    },
    {
      "cell_type": "markdown",
      "source": [
        "Muat kumpulan data"
      ],
      "metadata": {
        "id": "Tzh6Ri-Wyw0L"
      }
    },
    {
      "cell_type": "code",
      "source": [
        "df = pd.read_csv('Loan_default.csv',low_memory=False)"
      ],
      "metadata": {
        "id": "c6WEUBlsL-Gg"
      },
      "execution_count": 80,
      "outputs": []
    },
    {
      "cell_type": "code",
      "source": [
        "df"
      ],
      "metadata": {
        "colab": {
          "base_uri": "https://localhost:8080/",
          "height": 513
        },
        "id": "-Pzb9f9tMDQ1",
        "outputId": "9a873074-5930-40e1-fd87-171bba68bb40"
      },
      "execution_count": 81,
      "outputs": [
        {
          "output_type": "execute_result",
          "data": {
            "text/plain": [
              "            LoanID  Age  Income  LoanAmount  CreditScore  MonthsEmployed  \\\n",
              "0       I38PQUQS96   56   85994       50587          520              80   \n",
              "1       HPSK72WA7R   69   50432      124440          458              15   \n",
              "2       C1OZ6DPJ8Y   46   84208      129188          451              26   \n",
              "3       V2KKSFM3UN   32   31713       44799          743               0   \n",
              "4       EY08JDHTZP   60   20437        9139          633               8   \n",
              "...            ...  ...     ...         ...          ...             ...   \n",
              "255342  8C6S86ESGC   19   37979      210682          541             109   \n",
              "255343  98R4KDHNND   32   51953      189899          511              14   \n",
              "255344  XQK1UUUNGP   56   84820      208294          597              70   \n",
              "255345  JAO28CPL4H   42   85109       60575          809              40   \n",
              "255346  ZTH91CGL0B   62   22418       18481          636             113   \n",
              "\n",
              "        NumCreditLines  InterestRate  LoanTerm  DTIRatio    Education  \\\n",
              "0                    4         15.23        36      0.44   Bachelor's   \n",
              "1                    1          4.81        60      0.68     Master's   \n",
              "2                    3         21.17        24      0.31     Master's   \n",
              "3                    3          7.07        24      0.23  High School   \n",
              "4                    4          6.51        48      0.73   Bachelor's   \n",
              "...                ...           ...       ...       ...          ...   \n",
              "255342               4         14.11        12      0.85   Bachelor's   \n",
              "255343               2         11.55        24      0.21  High School   \n",
              "255344               3          5.29        60      0.50  High School   \n",
              "255345               1         20.90        48      0.44  High School   \n",
              "255346               2          6.73        12      0.48   Bachelor's   \n",
              "\n",
              "       EmploymentType MaritalStatus HasMortgage HasDependents LoanPurpose  \\\n",
              "0           Full-time      Divorced         Yes           Yes       Other   \n",
              "1           Full-time       Married          No            No       Other   \n",
              "2          Unemployed      Divorced         Yes           Yes        Auto   \n",
              "3           Full-time       Married          No            No    Business   \n",
              "4          Unemployed      Divorced          No           Yes        Auto   \n",
              "...               ...           ...         ...           ...         ...   \n",
              "255342      Full-time       Married          No            No       Other   \n",
              "255343      Part-time      Divorced          No            No        Home   \n",
              "255344  Self-employed       Married         Yes           Yes        Auto   \n",
              "255345      Part-time        Single         Yes           Yes       Other   \n",
              "255346     Unemployed      Divorced         Yes            No   Education   \n",
              "\n",
              "       HasCoSigner  Default  \n",
              "0              Yes        0  \n",
              "1              Yes        0  \n",
              "2               No        1  \n",
              "3               No        0  \n",
              "4               No        0  \n",
              "...            ...      ...  \n",
              "255342          No        0  \n",
              "255343          No        1  \n",
              "255344         Yes        0  \n",
              "255345          No        0  \n",
              "255346         Yes        0  \n",
              "\n",
              "[255347 rows x 18 columns]"
            ],
            "text/html": [
              "\n",
              "  <div id=\"df-a8f45044-324c-4912-8c47-30be817f7775\" class=\"colab-df-container\">\n",
              "    <div>\n",
              "<style scoped>\n",
              "    .dataframe tbody tr th:only-of-type {\n",
              "        vertical-align: middle;\n",
              "    }\n",
              "\n",
              "    .dataframe tbody tr th {\n",
              "        vertical-align: top;\n",
              "    }\n",
              "\n",
              "    .dataframe thead th {\n",
              "        text-align: right;\n",
              "    }\n",
              "</style>\n",
              "<table border=\"1\" class=\"dataframe\">\n",
              "  <thead>\n",
              "    <tr style=\"text-align: right;\">\n",
              "      <th></th>\n",
              "      <th>LoanID</th>\n",
              "      <th>Age</th>\n",
              "      <th>Income</th>\n",
              "      <th>LoanAmount</th>\n",
              "      <th>CreditScore</th>\n",
              "      <th>MonthsEmployed</th>\n",
              "      <th>NumCreditLines</th>\n",
              "      <th>InterestRate</th>\n",
              "      <th>LoanTerm</th>\n",
              "      <th>DTIRatio</th>\n",
              "      <th>Education</th>\n",
              "      <th>EmploymentType</th>\n",
              "      <th>MaritalStatus</th>\n",
              "      <th>HasMortgage</th>\n",
              "      <th>HasDependents</th>\n",
              "      <th>LoanPurpose</th>\n",
              "      <th>HasCoSigner</th>\n",
              "      <th>Default</th>\n",
              "    </tr>\n",
              "  </thead>\n",
              "  <tbody>\n",
              "    <tr>\n",
              "      <th>0</th>\n",
              "      <td>I38PQUQS96</td>\n",
              "      <td>56</td>\n",
              "      <td>85994</td>\n",
              "      <td>50587</td>\n",
              "      <td>520</td>\n",
              "      <td>80</td>\n",
              "      <td>4</td>\n",
              "      <td>15.23</td>\n",
              "      <td>36</td>\n",
              "      <td>0.44</td>\n",
              "      <td>Bachelor's</td>\n",
              "      <td>Full-time</td>\n",
              "      <td>Divorced</td>\n",
              "      <td>Yes</td>\n",
              "      <td>Yes</td>\n",
              "      <td>Other</td>\n",
              "      <td>Yes</td>\n",
              "      <td>0</td>\n",
              "    </tr>\n",
              "    <tr>\n",
              "      <th>1</th>\n",
              "      <td>HPSK72WA7R</td>\n",
              "      <td>69</td>\n",
              "      <td>50432</td>\n",
              "      <td>124440</td>\n",
              "      <td>458</td>\n",
              "      <td>15</td>\n",
              "      <td>1</td>\n",
              "      <td>4.81</td>\n",
              "      <td>60</td>\n",
              "      <td>0.68</td>\n",
              "      <td>Master's</td>\n",
              "      <td>Full-time</td>\n",
              "      <td>Married</td>\n",
              "      <td>No</td>\n",
              "      <td>No</td>\n",
              "      <td>Other</td>\n",
              "      <td>Yes</td>\n",
              "      <td>0</td>\n",
              "    </tr>\n",
              "    <tr>\n",
              "      <th>2</th>\n",
              "      <td>C1OZ6DPJ8Y</td>\n",
              "      <td>46</td>\n",
              "      <td>84208</td>\n",
              "      <td>129188</td>\n",
              "      <td>451</td>\n",
              "      <td>26</td>\n",
              "      <td>3</td>\n",
              "      <td>21.17</td>\n",
              "      <td>24</td>\n",
              "      <td>0.31</td>\n",
              "      <td>Master's</td>\n",
              "      <td>Unemployed</td>\n",
              "      <td>Divorced</td>\n",
              "      <td>Yes</td>\n",
              "      <td>Yes</td>\n",
              "      <td>Auto</td>\n",
              "      <td>No</td>\n",
              "      <td>1</td>\n",
              "    </tr>\n",
              "    <tr>\n",
              "      <th>3</th>\n",
              "      <td>V2KKSFM3UN</td>\n",
              "      <td>32</td>\n",
              "      <td>31713</td>\n",
              "      <td>44799</td>\n",
              "      <td>743</td>\n",
              "      <td>0</td>\n",
              "      <td>3</td>\n",
              "      <td>7.07</td>\n",
              "      <td>24</td>\n",
              "      <td>0.23</td>\n",
              "      <td>High School</td>\n",
              "      <td>Full-time</td>\n",
              "      <td>Married</td>\n",
              "      <td>No</td>\n",
              "      <td>No</td>\n",
              "      <td>Business</td>\n",
              "      <td>No</td>\n",
              "      <td>0</td>\n",
              "    </tr>\n",
              "    <tr>\n",
              "      <th>4</th>\n",
              "      <td>EY08JDHTZP</td>\n",
              "      <td>60</td>\n",
              "      <td>20437</td>\n",
              "      <td>9139</td>\n",
              "      <td>633</td>\n",
              "      <td>8</td>\n",
              "      <td>4</td>\n",
              "      <td>6.51</td>\n",
              "      <td>48</td>\n",
              "      <td>0.73</td>\n",
              "      <td>Bachelor's</td>\n",
              "      <td>Unemployed</td>\n",
              "      <td>Divorced</td>\n",
              "      <td>No</td>\n",
              "      <td>Yes</td>\n",
              "      <td>Auto</td>\n",
              "      <td>No</td>\n",
              "      <td>0</td>\n",
              "    </tr>\n",
              "    <tr>\n",
              "      <th>...</th>\n",
              "      <td>...</td>\n",
              "      <td>...</td>\n",
              "      <td>...</td>\n",
              "      <td>...</td>\n",
              "      <td>...</td>\n",
              "      <td>...</td>\n",
              "      <td>...</td>\n",
              "      <td>...</td>\n",
              "      <td>...</td>\n",
              "      <td>...</td>\n",
              "      <td>...</td>\n",
              "      <td>...</td>\n",
              "      <td>...</td>\n",
              "      <td>...</td>\n",
              "      <td>...</td>\n",
              "      <td>...</td>\n",
              "      <td>...</td>\n",
              "      <td>...</td>\n",
              "    </tr>\n",
              "    <tr>\n",
              "      <th>255342</th>\n",
              "      <td>8C6S86ESGC</td>\n",
              "      <td>19</td>\n",
              "      <td>37979</td>\n",
              "      <td>210682</td>\n",
              "      <td>541</td>\n",
              "      <td>109</td>\n",
              "      <td>4</td>\n",
              "      <td>14.11</td>\n",
              "      <td>12</td>\n",
              "      <td>0.85</td>\n",
              "      <td>Bachelor's</td>\n",
              "      <td>Full-time</td>\n",
              "      <td>Married</td>\n",
              "      <td>No</td>\n",
              "      <td>No</td>\n",
              "      <td>Other</td>\n",
              "      <td>No</td>\n",
              "      <td>0</td>\n",
              "    </tr>\n",
              "    <tr>\n",
              "      <th>255343</th>\n",
              "      <td>98R4KDHNND</td>\n",
              "      <td>32</td>\n",
              "      <td>51953</td>\n",
              "      <td>189899</td>\n",
              "      <td>511</td>\n",
              "      <td>14</td>\n",
              "      <td>2</td>\n",
              "      <td>11.55</td>\n",
              "      <td>24</td>\n",
              "      <td>0.21</td>\n",
              "      <td>High School</td>\n",
              "      <td>Part-time</td>\n",
              "      <td>Divorced</td>\n",
              "      <td>No</td>\n",
              "      <td>No</td>\n",
              "      <td>Home</td>\n",
              "      <td>No</td>\n",
              "      <td>1</td>\n",
              "    </tr>\n",
              "    <tr>\n",
              "      <th>255344</th>\n",
              "      <td>XQK1UUUNGP</td>\n",
              "      <td>56</td>\n",
              "      <td>84820</td>\n",
              "      <td>208294</td>\n",
              "      <td>597</td>\n",
              "      <td>70</td>\n",
              "      <td>3</td>\n",
              "      <td>5.29</td>\n",
              "      <td>60</td>\n",
              "      <td>0.50</td>\n",
              "      <td>High School</td>\n",
              "      <td>Self-employed</td>\n",
              "      <td>Married</td>\n",
              "      <td>Yes</td>\n",
              "      <td>Yes</td>\n",
              "      <td>Auto</td>\n",
              "      <td>Yes</td>\n",
              "      <td>0</td>\n",
              "    </tr>\n",
              "    <tr>\n",
              "      <th>255345</th>\n",
              "      <td>JAO28CPL4H</td>\n",
              "      <td>42</td>\n",
              "      <td>85109</td>\n",
              "      <td>60575</td>\n",
              "      <td>809</td>\n",
              "      <td>40</td>\n",
              "      <td>1</td>\n",
              "      <td>20.90</td>\n",
              "      <td>48</td>\n",
              "      <td>0.44</td>\n",
              "      <td>High School</td>\n",
              "      <td>Part-time</td>\n",
              "      <td>Single</td>\n",
              "      <td>Yes</td>\n",
              "      <td>Yes</td>\n",
              "      <td>Other</td>\n",
              "      <td>No</td>\n",
              "      <td>0</td>\n",
              "    </tr>\n",
              "    <tr>\n",
              "      <th>255346</th>\n",
              "      <td>ZTH91CGL0B</td>\n",
              "      <td>62</td>\n",
              "      <td>22418</td>\n",
              "      <td>18481</td>\n",
              "      <td>636</td>\n",
              "      <td>113</td>\n",
              "      <td>2</td>\n",
              "      <td>6.73</td>\n",
              "      <td>12</td>\n",
              "      <td>0.48</td>\n",
              "      <td>Bachelor's</td>\n",
              "      <td>Unemployed</td>\n",
              "      <td>Divorced</td>\n",
              "      <td>Yes</td>\n",
              "      <td>No</td>\n",
              "      <td>Education</td>\n",
              "      <td>Yes</td>\n",
              "      <td>0</td>\n",
              "    </tr>\n",
              "  </tbody>\n",
              "</table>\n",
              "<p>255347 rows × 18 columns</p>\n",
              "</div>\n",
              "    <div class=\"colab-df-buttons\">\n",
              "\n",
              "  <div class=\"colab-df-container\">\n",
              "    <button class=\"colab-df-convert\" onclick=\"convertToInteractive('df-a8f45044-324c-4912-8c47-30be817f7775')\"\n",
              "            title=\"Convert this dataframe to an interactive table.\"\n",
              "            style=\"display:none;\">\n",
              "\n",
              "  <svg xmlns=\"http://www.w3.org/2000/svg\" height=\"24px\" viewBox=\"0 -960 960 960\">\n",
              "    <path d=\"M120-120v-720h720v720H120Zm60-500h600v-160H180v160Zm220 220h160v-160H400v160Zm0 220h160v-160H400v160ZM180-400h160v-160H180v160Zm440 0h160v-160H620v160ZM180-180h160v-160H180v160Zm440 0h160v-160H620v160Z\"/>\n",
              "  </svg>\n",
              "    </button>\n",
              "\n",
              "  <style>\n",
              "    .colab-df-container {\n",
              "      display:flex;\n",
              "      gap: 12px;\n",
              "    }\n",
              "\n",
              "    .colab-df-convert {\n",
              "      background-color: #E8F0FE;\n",
              "      border: none;\n",
              "      border-radius: 50%;\n",
              "      cursor: pointer;\n",
              "      display: none;\n",
              "      fill: #1967D2;\n",
              "      height: 32px;\n",
              "      padding: 0 0 0 0;\n",
              "      width: 32px;\n",
              "    }\n",
              "\n",
              "    .colab-df-convert:hover {\n",
              "      background-color: #E2EBFA;\n",
              "      box-shadow: 0px 1px 2px rgba(60, 64, 67, 0.3), 0px 1px 3px 1px rgba(60, 64, 67, 0.15);\n",
              "      fill: #174EA6;\n",
              "    }\n",
              "\n",
              "    .colab-df-buttons div {\n",
              "      margin-bottom: 4px;\n",
              "    }\n",
              "\n",
              "    [theme=dark] .colab-df-convert {\n",
              "      background-color: #3B4455;\n",
              "      fill: #D2E3FC;\n",
              "    }\n",
              "\n",
              "    [theme=dark] .colab-df-convert:hover {\n",
              "      background-color: #434B5C;\n",
              "      box-shadow: 0px 1px 3px 1px rgba(0, 0, 0, 0.15);\n",
              "      filter: drop-shadow(0px 1px 2px rgba(0, 0, 0, 0.3));\n",
              "      fill: #FFFFFF;\n",
              "    }\n",
              "  </style>\n",
              "\n",
              "    <script>\n",
              "      const buttonEl =\n",
              "        document.querySelector('#df-a8f45044-324c-4912-8c47-30be817f7775 button.colab-df-convert');\n",
              "      buttonEl.style.display =\n",
              "        google.colab.kernel.accessAllowed ? 'block' : 'none';\n",
              "\n",
              "      async function convertToInteractive(key) {\n",
              "        const element = document.querySelector('#df-a8f45044-324c-4912-8c47-30be817f7775');\n",
              "        const dataTable =\n",
              "          await google.colab.kernel.invokeFunction('convertToInteractive',\n",
              "                                                    [key], {});\n",
              "        if (!dataTable) return;\n",
              "\n",
              "        const docLinkHtml = 'Like what you see? Visit the ' +\n",
              "          '<a target=\"_blank\" href=https://colab.research.google.com/notebooks/data_table.ipynb>data table notebook</a>'\n",
              "          + ' to learn more about interactive tables.';\n",
              "        element.innerHTML = '';\n",
              "        dataTable['output_type'] = 'display_data';\n",
              "        await google.colab.output.renderOutput(dataTable, element);\n",
              "        const docLink = document.createElement('div');\n",
              "        docLink.innerHTML = docLinkHtml;\n",
              "        element.appendChild(docLink);\n",
              "      }\n",
              "    </script>\n",
              "  </div>\n",
              "\n",
              "\n",
              "<div id=\"df-f7ff728c-9340-45a1-9451-6be1f90830a3\">\n",
              "  <button class=\"colab-df-quickchart\" onclick=\"quickchart('df-f7ff728c-9340-45a1-9451-6be1f90830a3')\"\n",
              "            title=\"Suggest charts.\"\n",
              "            style=\"display:none;\">\n",
              "\n",
              "<svg xmlns=\"http://www.w3.org/2000/svg\" height=\"24px\"viewBox=\"0 0 24 24\"\n",
              "     width=\"24px\">\n",
              "    <g>\n",
              "        <path d=\"M19 3H5c-1.1 0-2 .9-2 2v14c0 1.1.9 2 2 2h14c1.1 0 2-.9 2-2V5c0-1.1-.9-2-2-2zM9 17H7v-7h2v7zm4 0h-2V7h2v10zm4 0h-2v-4h2v4z\"/>\n",
              "    </g>\n",
              "</svg>\n",
              "  </button>\n",
              "\n",
              "<style>\n",
              "  .colab-df-quickchart {\n",
              "      --bg-color: #E8F0FE;\n",
              "      --fill-color: #1967D2;\n",
              "      --hover-bg-color: #E2EBFA;\n",
              "      --hover-fill-color: #174EA6;\n",
              "      --disabled-fill-color: #AAA;\n",
              "      --disabled-bg-color: #DDD;\n",
              "  }\n",
              "\n",
              "  [theme=dark] .colab-df-quickchart {\n",
              "      --bg-color: #3B4455;\n",
              "      --fill-color: #D2E3FC;\n",
              "      --hover-bg-color: #434B5C;\n",
              "      --hover-fill-color: #FFFFFF;\n",
              "      --disabled-bg-color: #3B4455;\n",
              "      --disabled-fill-color: #666;\n",
              "  }\n",
              "\n",
              "  .colab-df-quickchart {\n",
              "    background-color: var(--bg-color);\n",
              "    border: none;\n",
              "    border-radius: 50%;\n",
              "    cursor: pointer;\n",
              "    display: none;\n",
              "    fill: var(--fill-color);\n",
              "    height: 32px;\n",
              "    padding: 0;\n",
              "    width: 32px;\n",
              "  }\n",
              "\n",
              "  .colab-df-quickchart:hover {\n",
              "    background-color: var(--hover-bg-color);\n",
              "    box-shadow: 0 1px 2px rgba(60, 64, 67, 0.3), 0 1px 3px 1px rgba(60, 64, 67, 0.15);\n",
              "    fill: var(--button-hover-fill-color);\n",
              "  }\n",
              "\n",
              "  .colab-df-quickchart-complete:disabled,\n",
              "  .colab-df-quickchart-complete:disabled:hover {\n",
              "    background-color: var(--disabled-bg-color);\n",
              "    fill: var(--disabled-fill-color);\n",
              "    box-shadow: none;\n",
              "  }\n",
              "\n",
              "  .colab-df-spinner {\n",
              "    border: 2px solid var(--fill-color);\n",
              "    border-color: transparent;\n",
              "    border-bottom-color: var(--fill-color);\n",
              "    animation:\n",
              "      spin 1s steps(1) infinite;\n",
              "  }\n",
              "\n",
              "  @keyframes spin {\n",
              "    0% {\n",
              "      border-color: transparent;\n",
              "      border-bottom-color: var(--fill-color);\n",
              "      border-left-color: var(--fill-color);\n",
              "    }\n",
              "    20% {\n",
              "      border-color: transparent;\n",
              "      border-left-color: var(--fill-color);\n",
              "      border-top-color: var(--fill-color);\n",
              "    }\n",
              "    30% {\n",
              "      border-color: transparent;\n",
              "      border-left-color: var(--fill-color);\n",
              "      border-top-color: var(--fill-color);\n",
              "      border-right-color: var(--fill-color);\n",
              "    }\n",
              "    40% {\n",
              "      border-color: transparent;\n",
              "      border-right-color: var(--fill-color);\n",
              "      border-top-color: var(--fill-color);\n",
              "    }\n",
              "    60% {\n",
              "      border-color: transparent;\n",
              "      border-right-color: var(--fill-color);\n",
              "    }\n",
              "    80% {\n",
              "      border-color: transparent;\n",
              "      border-right-color: var(--fill-color);\n",
              "      border-bottom-color: var(--fill-color);\n",
              "    }\n",
              "    90% {\n",
              "      border-color: transparent;\n",
              "      border-bottom-color: var(--fill-color);\n",
              "    }\n",
              "  }\n",
              "</style>\n",
              "\n",
              "  <script>\n",
              "    async function quickchart(key) {\n",
              "      const quickchartButtonEl =\n",
              "        document.querySelector('#' + key + ' button');\n",
              "      quickchartButtonEl.disabled = true;  // To prevent multiple clicks.\n",
              "      quickchartButtonEl.classList.add('colab-df-spinner');\n",
              "      try {\n",
              "        const charts = await google.colab.kernel.invokeFunction(\n",
              "            'suggestCharts', [key], {});\n",
              "      } catch (error) {\n",
              "        console.error('Error during call to suggestCharts:', error);\n",
              "      }\n",
              "      quickchartButtonEl.classList.remove('colab-df-spinner');\n",
              "      quickchartButtonEl.classList.add('colab-df-quickchart-complete');\n",
              "    }\n",
              "    (() => {\n",
              "      let quickchartButtonEl =\n",
              "        document.querySelector('#df-f7ff728c-9340-45a1-9451-6be1f90830a3 button');\n",
              "      quickchartButtonEl.style.display =\n",
              "        google.colab.kernel.accessAllowed ? 'block' : 'none';\n",
              "    })();\n",
              "  </script>\n",
              "</div>\n",
              "    </div>\n",
              "  </div>\n"
            ]
          },
          "metadata": {},
          "execution_count": 81
        }
      ]
    },
    {
      "cell_type": "markdown",
      "source": [
        "Hapus kolom 'LoanID'"
      ],
      "metadata": {
        "id": "bGPsS970zVK4"
      }
    },
    {
      "cell_type": "code",
      "source": [
        "df = df.drop(columns=['LoanID'])"
      ],
      "metadata": {
        "id": "ryfVc-yzm2bw"
      },
      "execution_count": 82,
      "outputs": []
    },
    {
      "cell_type": "markdown",
      "source": [
        "Memisahkakn fitur dan variabel target"
      ],
      "metadata": {
        "id": "FenU5Lc0zhLx"
      }
    },
    {
      "cell_type": "code",
      "source": [
        "X = df.drop(columns=['CreditScore'])\n",
        "y = df['CreditScore']"
      ],
      "metadata": {
        "id": "VwS5d4-SVp-h"
      },
      "execution_count": 83,
      "outputs": []
    },
    {
      "cell_type": "markdown",
      "source": [
        "memisahkan kumpulan data menjadi kumpulan pelatihan dan pengujian"
      ],
      "metadata": {
        "id": "JyMaB9WTzqB8"
      }
    },
    {
      "cell_type": "code",
      "source": [
        "X_train, X_test, y_train, y_test = train_test_split(X, y, test_size=0.2, random_state=42)\n"
      ],
      "metadata": {
        "id": "pK7Gs7LxMEKW"
      },
      "execution_count": 84,
      "outputs": []
    },
    {
      "cell_type": "markdown",
      "source": [
        "Prapemrosesan: Pengkodean one-hot untuk atribut kategorikal, Normalisasi untuk atribut numerik"
      ],
      "metadata": {
        "id": "YZcx0Cmqzvqu"
      }
    },
    {
      "cell_type": "code",
      "source": [
        "numeric_features = X.select_dtypes(include=[np.number]).columns\n",
        "categorical_features = X.select_dtypes(include=[np.object]).columns"
      ],
      "metadata": {
        "colab": {
          "base_uri": "https://localhost:8080/"
        },
        "id": "BKnksOH5TnpK",
        "outputId": "ec3ff474-77f2-4dab-e65a-462643a4beed"
      },
      "execution_count": 85,
      "outputs": [
        {
          "output_type": "stream",
          "name": "stderr",
          "text": [
            "<ipython-input-85-cacf34294f41>:2: DeprecationWarning: `np.object` is a deprecated alias for the builtin `object`. To silence this warning, use `object` by itself. Doing this will not modify any behavior and is safe. \n",
            "Deprecated in NumPy 1.20; for more details and guidance: https://numpy.org/devdocs/release/1.20.0-notes.html#deprecations\n",
            "  categorical_features = X.select_dtypes(include=[np.object]).columns\n"
          ]
        }
      ]
    },
    {
      "cell_type": "markdown",
      "source": [
        "Membuat transformers"
      ],
      "metadata": {
        "id": "OPeCf3Qrz-Lk"
      }
    },
    {
      "cell_type": "code",
      "source": [
        "numeric_transformer = StandardScaler()\n",
        "categorical_transformer = OneHotEncoder()"
      ],
      "metadata": {
        "id": "-3RBlyyIMO8c"
      },
      "execution_count": 87,
      "outputs": []
    },
    {
      "cell_type": "markdown",
      "source": [
        "Membuat preprocessor"
      ],
      "metadata": {
        "id": "eB-ruERG0DO1"
      }
    },
    {
      "cell_type": "code",
      "source": [
        "preprocessor = ColumnTransformer(\n",
        "    transformers=[\n",
        "        ('num', numeric_transformer, numeric_features),\n",
        "        ('cat', categorical_transformer, categorical_features)\n",
        "    ])\n"
      ],
      "metadata": {
        "id": "d2uA7CIPMSA5"
      },
      "execution_count": 88,
      "outputs": []
    },
    {
      "cell_type": "markdown",
      "source": [
        "Proses awal data pelatihan"
      ],
      "metadata": {
        "id": "mY1D50jB0lrn"
      }
    },
    {
      "cell_type": "code",
      "source": [
        "X_train_preprocessed = preprocessor.fit_transform(X_train)"
      ],
      "metadata": {
        "id": "MGfQR4AUMYqM"
      },
      "execution_count": 89,
      "outputs": []
    },
    {
      "cell_type": "code",
      "source": [
        "X_test_preprocessed = preprocessor.transform(X_test)"
      ],
      "metadata": {
        "id": "D-2IeZrZMcjS"
      },
      "execution_count": 90,
      "outputs": []
    },
    {
      "cell_type": "markdown",
      "source": [
        "Bangun model sekuensial"
      ],
      "metadata": {
        "id": "poectM2-0yem"
      }
    },
    {
      "cell_type": "code",
      "source": [
        "model = Sequential()\n",
        "model.add(Dense(64, input_dim=X_train_preprocessed.shape[1], activation='relu'))\n",
        "model.add(Dense(32, activation='relu'))\n",
        "model.add(Dense(1, activation='linear'))"
      ],
      "metadata": {
        "id": "4AnCpW3TMfRH"
      },
      "execution_count": 91,
      "outputs": []
    },
    {
      "cell_type": "markdown",
      "source": [
        "Kompilasi model"
      ],
      "metadata": {
        "id": "aaCLp8iI0397"
      }
    },
    {
      "cell_type": "code",
      "source": [
        "model.compile(loss='mean_squared_error', optimizer=Adam(), metrics=['mae'])"
      ],
      "metadata": {
        "id": "yOuw7KDpYH9y"
      },
      "execution_count": 92,
      "outputs": []
    },
    {
      "cell_type": "markdown",
      "source": [
        "tentukan callbacks"
      ],
      "metadata": {
        "id": "EXgXQwlF097u"
      }
    },
    {
      "cell_type": "code",
      "source": [
        "checkpoint = ModelCheckpoint(\"best_model.h5\", save_best_only=True)\n",
        "early_stopping = EarlyStopping(patience=10, restore_best_weights=True)"
      ],
      "metadata": {
        "id": "l6uRUeDFX6fi"
      },
      "execution_count": 93,
      "outputs": []
    },
    {
      "cell_type": "code",
      "source": [
        "model = Sequential()\n",
        "model.add(Dense(64, input_dim=X_train_preprocessed.shape[1], activation='relu', kernel_regularizer='l2'))\n",
        "model.add(Dropout(0.5))\n",
        "model.add(Dense(32, activation='relu', kernel_regularizer='l2'))\n",
        "model.add(Dropout(0.3))\n",
        "model.add(Dense(1, activation='linear'))"
      ],
      "metadata": {
        "id": "_PiHFbOoMhcT"
      },
      "execution_count": 94,
      "outputs": []
    },
    {
      "cell_type": "markdown",
      "source": [],
      "metadata": {
        "id": "9vfPdGec1Kxg"
      }
    },
    {
      "cell_type": "code",
      "source": [
        "model.compile(loss='mean_squared_error', optimizer=Adam(), metrics=['mae'])\n"
      ],
      "metadata": {
        "id": "29LB0BKVgBW5"
      },
      "execution_count": 95,
      "outputs": []
    },
    {
      "cell_type": "code",
      "source": [
        "checkpoint = ModelCheckpoint(\"best_model.h5\", save_best_only=True)\n",
        "early_stopping = EarlyStopping(patience=10, restore_best_weights=True)\n"
      ],
      "metadata": {
        "id": "fAJaRO0ln_n3"
      },
      "execution_count": 96,
      "outputs": []
    },
    {
      "cell_type": "markdown",
      "source": [
        "Melatih Model"
      ],
      "metadata": {
        "id": "7Y2MKnQe1IPj"
      }
    },
    {
      "cell_type": "code",
      "source": [
        "history = model.fit(\n",
        "    X_train_preprocessed, y_train,\n",
        "    validation_split=0.2,\n",
        "    epochs=50,\n",
        "    batch_size=32,\n",
        "    callbacks=[checkpoint, early_stopping]\n",
        ")"
      ],
      "metadata": {
        "colab": {
          "base_uri": "https://localhost:8080/"
        },
        "id": "ZXEAexmeoB4M",
        "outputId": "c2f79ac4-0643-4ad4-cc02-6012e57f3bf5"
      },
      "execution_count": 97,
      "outputs": [
        {
          "output_type": "stream",
          "name": "stdout",
          "text": [
            "Epoch 1/50\n",
            "5107/5107 [==============================] - 13s 2ms/step - loss: 47226.2578 - mae: 173.2674 - val_loss: 25855.8574 - val_mae: 138.7065\n",
            "Epoch 2/50\n",
            "  80/5107 [..............................] - ETA: 9s - loss: 38036.9258 - mae: 162.0455"
          ]
        },
        {
          "output_type": "stream",
          "name": "stderr",
          "text": [
            "/usr/local/lib/python3.10/dist-packages/keras/src/engine/training.py:3000: UserWarning: You are saving your model as an HDF5 file via `model.save()`. This file format is considered legacy. We recommend using instead the native Keras format, e.g. `model.save('my_model.keras')`.\n",
            "  saving_api.save_model(\n"
          ]
        },
        {
          "output_type": "stream",
          "name": "stdout",
          "text": [
            "5107/5107 [==============================] - 12s 2ms/step - loss: 36478.8711 - mae: 158.0876 - val_loss: 25943.7031 - val_mae: 138.8130\n",
            "Epoch 3/50\n",
            "5107/5107 [==============================] - 12s 2ms/step - loss: 36062.5664 - mae: 157.2086 - val_loss: 25577.1133 - val_mae: 138.1812\n",
            "Epoch 4/50\n",
            "5107/5107 [==============================] - 13s 3ms/step - loss: 35541.0625 - mae: 156.3919 - val_loss: 25591.7695 - val_mae: 138.1899\n",
            "Epoch 5/50\n",
            "5107/5107 [==============================] - 12s 2ms/step - loss: 35162.1211 - mae: 155.4243 - val_loss: 25538.2656 - val_mae: 138.1428\n",
            "Epoch 6/50\n",
            "5107/5107 [==============================] - 12s 2ms/step - loss: 34877.1016 - mae: 155.0132 - val_loss: 25348.9395 - val_mae: 137.8047\n",
            "Epoch 7/50\n",
            "5107/5107 [==============================] - 12s 2ms/step - loss: 34254.8633 - mae: 153.9201 - val_loss: 25414.6855 - val_mae: 137.9201\n",
            "Epoch 8/50\n",
            "5107/5107 [==============================] - 13s 3ms/step - loss: 33625.4414 - mae: 152.7300 - val_loss: 25458.9570 - val_mae: 137.9626\n",
            "Epoch 9/50\n",
            "5107/5107 [==============================] - 13s 3ms/step - loss: 32962.9688 - mae: 151.4356 - val_loss: 25622.3828 - val_mae: 138.2776\n",
            "Epoch 10/50\n",
            "5107/5107 [==============================] - 13s 3ms/step - loss: 32368.7812 - mae: 150.4150 - val_loss: 25468.0176 - val_mae: 138.0246\n",
            "Epoch 11/50\n",
            "5107/5107 [==============================] - 12s 2ms/step - loss: 31742.8496 - mae: 149.2238 - val_loss: 25675.0156 - val_mae: 138.3686\n",
            "Epoch 12/50\n",
            "5107/5107 [==============================] - 12s 2ms/step - loss: 31399.8379 - mae: 148.6631 - val_loss: 25371.1816 - val_mae: 137.8599\n",
            "Epoch 13/50\n",
            "5107/5107 [==============================] - 12s 2ms/step - loss: 31067.8047 - mae: 148.0640 - val_loss: 25537.8711 - val_mae: 138.1419\n",
            "Epoch 14/50\n",
            "5107/5107 [==============================] - 13s 2ms/step - loss: 30954.5371 - mae: 147.9879 - val_loss: 25352.2812 - val_mae: 137.8168\n",
            "Epoch 15/50\n",
            "5107/5107 [==============================] - 13s 3ms/step - loss: 30846.8555 - mae: 147.5562 - val_loss: 25433.0039 - val_mae: 137.9539\n",
            "Epoch 16/50\n",
            "5107/5107 [==============================] - 13s 3ms/step - loss: 30849.1465 - mae: 147.6223 - val_loss: 25441.8008 - val_mae: 137.9963\n"
          ]
        }
      ]
    },
    {
      "cell_type": "markdown",
      "source": [
        "Evaluasi model"
      ],
      "metadata": {
        "id": "qdTTrF-J1iwR"
      }
    },
    {
      "cell_type": "code",
      "source": [
        "y_pred = model.predict(X_test_preprocessed)"
      ],
      "metadata": {
        "colab": {
          "base_uri": "https://localhost:8080/"
        },
        "id": "Dafb6oTHoMtt",
        "outputId": "b49fb24a-a74a-4093-ef07-7cfb6b2ef269"
      },
      "execution_count": 98,
      "outputs": [
        {
          "output_type": "stream",
          "name": "stdout",
          "text": [
            "1596/1596 [==============================] - 2s 1ms/step\n"
          ]
        }
      ]
    },
    {
      "cell_type": "markdown",
      "source": [
        "Evaluasi menggunakan R-kuadrat"
      ],
      "metadata": {
        "id": "V--jap4Y1nqm"
      }
    },
    {
      "cell_type": "code",
      "source": [
        "r2 = r2_score(y_test, y_pred)\n",
        "print(f\"R-squared: {r2}\")"
      ],
      "metadata": {
        "colab": {
          "base_uri": "https://localhost:8080/"
        },
        "id": "qGhzrrbGw5KN",
        "outputId": "78e1a356-ab14-436b-a715-0b8093cbf0a7"
      },
      "execution_count": 99,
      "outputs": [
        {
          "output_type": "stream",
          "name": "stdout",
          "text": [
            "R-squared: -0.0026641664830315825\n"
          ]
        }
      ]
    },
    {
      "cell_type": "markdown",
      "source": [
        "Merencanakan history pelatihan"
      ],
      "metadata": {
        "id": "7HCheHiT1wuG"
      }
    },
    {
      "cell_type": "code",
      "source": [
        "plt.plot(history.history['mae'], label='Training MAE')\n",
        "plt.plot(history.history['val_mae'], label='Validation MAE')\n",
        "plt.plot(history.history['loss'], label='Training Loss')\n",
        "plt.plot(history.history['val_loss'], label='Validation Loss')\n",
        "plt.legend()\n",
        "plt.xlabel('Epoch')\n",
        "plt.show()"
      ],
      "metadata": {
        "colab": {
          "base_uri": "https://localhost:8080/",
          "height": 449
        },
        "id": "hDN64kAYxJJA",
        "outputId": "133d6fa1-1fa5-49f5-eb96-a4b22abd5bdb"
      },
      "execution_count": 100,
      "outputs": [
        {
          "output_type": "display_data",
          "data": {
            "text/plain": [
              "<Figure size 640x480 with 1 Axes>"
            ],
            "image/png": "[encoded data removed]"
          },
          "metadata": {}
        }
      ]
    },
    {
      "cell_type": "code",
      "source": [],
      "metadata": {
        "id": "cUbKUEmdxLx6"
      },
      "execution_count": null,
      "outputs": []
    }
  ]
}